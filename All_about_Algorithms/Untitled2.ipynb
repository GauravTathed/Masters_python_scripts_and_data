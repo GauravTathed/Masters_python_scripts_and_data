{
 "cells": [
  {
   "cell_type": "code",
   "execution_count": null,
   "id": "13f908c3-6a3a-4979-a0d0-0e1ce21a6555",
   "metadata": {},
   "outputs": [],
   "source": []
  },
  {
   "cell_type": "code",
   "execution_count": null,
   "id": "4fb78b79-56bf-4a52-841a-76eb0f1457bb",
   "metadata": {},
   "outputs": [],
   "source": []
  },
  {
   "cell_type": "code",
   "execution_count": 5,
   "id": "ccf498d2-073b-4697-a85c-a004dfaa14f6",
   "metadata": {},
   "outputs": [
    {
     "name": "stdout",
     "output_type": "stream",
     "text": [
      "gate count: 21\n"
     ]
    }
   ],
   "source": [
    "import numpy as np\n",
    "from scipy.optimize import minimize\n",
    "\n",
    "# ----------  basic 2×2 SU(2) block in Euler‑angle form ----------\n",
    "def su2(alpha, beta, gamma):\n",
    "    c = np.cos(beta / 2)\n",
    "    s = np.sin(beta / 2)\n",
    "    return np.array(\n",
    "        [[np.exp(-0.5j * (alpha + gamma)) * c, -np.exp(-0.5j * (alpha - gamma)) * s],\n",
    "         [np.exp( 0.5j * (alpha - gamma)) * s,  np.exp( 0.5j * (alpha + gamma)) * c]],\n",
    "        dtype=complex,\n",
    "    )\n",
    "\n",
    "# ----------  embed that 2×2 block on the |0>↔|i> spoke ----------\n",
    "def embed(mat, i, d):\n",
    "    E = np.eye(d, dtype=complex)\n",
    "    E[np.ix_([0, i], [0, i])] = mat        # replace 2×2 sub‑block\n",
    "    return E\n",
    "\n",
    "# ----------  minimal‑length star‑rotation solver ----------\n",
    "def star_solver(U):\n",
    "    d = U.shape[0]\n",
    "    m = (d * d - 1 + 2) // 3               #  ⌈(d²−1)/3⌉\n",
    "    spokes = [(k % (d - 1)) + 1 for k in range(m)]   # 1,2,…,d−1,1,2,…\n",
    "\n",
    "    def build(x):                          # x is a flat length‑3m vector\n",
    "        V = np.eye(d, dtype=complex)\n",
    "        for k, i in enumerate(spokes):\n",
    "            V = embed(su2(*x[3 * k : 3 * k + 3]), i, d) @ V\n",
    "        return V\n",
    "\n",
    "    def loss(x):\n",
    "        diff = build(x) - U\n",
    "        return np.real(np.vdot(diff, diff))          # ‖diff‖_F²\n",
    "\n",
    "    x0 = 0.01 * np.random.randn(3 * m)               # small random start\n",
    "    res = minimize(loss, x0, method=\"L-BFGS-B\", options={\"maxiter\": 10000000})\n",
    "    if not res.success:\n",
    "        raise RuntimeError(\"optimiser failed: \" + res.message)\n",
    "    return res.x.reshape(m, 3)                        # (θ,φ,χ) triples\n",
    "\n",
    "# ----------  example: 8‑level Walsh–Hadamard ----------\n",
    "H2 = (1 / np.sqrt(2)) * np.array([[1, 1], [1, -1]], dtype=complex)\n",
    "H8 = np.kron(np.kron(H2, H2), H2)                    # 8×8 Hadamard, det = 1\n",
    "\n",
    "params = star_solver(H8)                             # shape (21, 3)\n",
    "print(\"gate count:\", len(params))                    # 21  =  ⌈(8²−1)/3⌉\n"
   ]
  },
  {
   "cell_type": "code",
   "execution_count": 6,
   "id": "afaf5428-6298-4f11-99c9-3d40563cff64",
   "metadata": {},
   "outputs": [
    {
     "name": "stdout",
     "output_type": "stream",
     "text": [
      "[[-0.81451616  1.54465733 -3.155273  ]\n",
      " [-1.3500931   0.4292489  -1.11118347]\n",
      " [ 1.28727346 -0.3274037   0.07541974]\n",
      " [ 0.18292368 -1.15529809  2.52967091]\n",
      " [-0.20420662 -0.92293739  1.13484341]\n",
      " [ 0.94365847 -4.74230736  0.69451812]\n",
      " [ 0.72561273  0.72782261 -3.26232662]\n",
      " [-0.27707429  0.46012246 -0.06893178]\n",
      " [-0.83147627 -1.95278282 -0.585057  ]\n",
      " [-0.67736139 -0.11417929  1.31956801]\n",
      " [ 0.54639838  0.85562126  0.3760464 ]\n",
      " [-1.37689395 -1.36454966  0.76768468]\n",
      " [ 1.18813823 -1.23680246  0.7257697 ]\n",
      " [-1.35157469  1.63116011 -1.26169918]\n",
      " [ 0.24493202  1.80860069 -2.21807724]\n",
      " [-0.97349327  0.53076714 -1.41523709]\n",
      " [-1.95547475 -1.96263173 -0.04483913]\n",
      " [ 2.50392577 -1.27746197  0.13981865]\n",
      " [-0.78025146 -2.06363295  0.48016036]\n",
      " [ 0.54906461 -2.3598904   2.14974621]\n",
      " [-0.00566075  1.56323566 -1.14005133]]\n"
     ]
    }
   ],
   "source": [
    "print(params)"
   ]
  },
  {
   "cell_type": "code",
   "execution_count": 8,
   "id": "8612ec9e-a20b-4488-bb3a-9db5a4467e9f",
   "metadata": {},
   "outputs": [
    {
     "name": "stdout",
     "output_type": "stream",
     "text": [
      "21 matrices  |  error = 1.4853621179011605\n"
     ]
    }
   ],
   "source": [
    "import numpy as np\n",
    "from scipy.optimize import minimize\n",
    "\n",
    "def su2(a,b,c):\n",
    "    t=np.cos(b/2); s=np.sin(b/2)\n",
    "    return np.array([[np.exp(-0.5j*(a+c))*t,-np.exp(-0.5j*(a-c))*s],\n",
    "                     [np.exp(0.5j*(a-c))*s, np.exp(0.5j*(a+c))*t]],dtype=complex)\n",
    "\n",
    "def embed(m,i,d):\n",
    "    E=np.eye(d,dtype=complex)\n",
    "    E[np.ix_([0,i],[0,i])]=m\n",
    "    return E\n",
    "\n",
    "def star_solver(U,maxiter=1000):\n",
    "    d=U.shape[0]\n",
    "    m=(d*d-1+2)//3\n",
    "    idx=[(k%(d-1))+1 for k in range(m)]\n",
    "    def build(x):\n",
    "        V=np.eye(d,dtype=complex)\n",
    "        for k,i in enumerate(idx):\n",
    "            V=embed(su2(*x[3*k:3*k+3]),i,d)@V\n",
    "        return V\n",
    "    loss=lambda x:np.linalg.norm(build(x)-U)**2\n",
    "    x0=0.01*np.random.randn(3*m)\n",
    "    res=minimize(loss,x0,method='L-BFGS-B',options={'maxiter':10000000})\n",
    "    return res.x.reshape(m,3),idx\n",
    "\n",
    "def params_to_matrices(params,idx,d):\n",
    "    return [embed(su2(*p),i,d) for p,i in zip(params,idx)]\n",
    "\n",
    "def reconstruct(params,idx,d):\n",
    "    V=np.eye(d,dtype=complex)\n",
    "    for M in params_to_matrices(params,idx,d):\n",
    "        V=M@V\n",
    "    return V\n",
    "\n",
    "# example: 8‑level Hadamard\n",
    "H2=(1/np.sqrt(2))*np.array([[1,1],[1,-1]],dtype=complex)\n",
    "H8=np.kron(np.kron(H2,H2),H2)\n",
    "\n",
    "params,idx=star_solver(H8)\n",
    "mats=params_to_matrices(params,idx,8)\n",
    "U_rec=reconstruct(params,idx,8)\n",
    "err=np.linalg.norm(U_rec-H8)\n",
    "print(len(mats),'matrices  |  error =',err)\n"
   ]
  },
  {
   "cell_type": "code",
   "execution_count": null,
   "id": "15c4ef12-7154-42ba-a7e4-5de7a2e9cc71",
   "metadata": {},
   "outputs": [],
   "source": []
  }
 ],
 "metadata": {
  "kernelspec": {
   "display_name": "Python 3 (ipykernel)",
   "language": "python",
   "name": "python3"
  },
  "language_info": {
   "codemirror_mode": {
    "name": "ipython",
    "version": 3
   },
   "file_extension": ".py",
   "mimetype": "text/x-python",
   "name": "python",
   "nbconvert_exporter": "python",
   "pygments_lexer": "ipython3",
   "version": "3.11.7"
  },
  "widgets": {
   "application/vnd.jupyter.widget-state+json": {
    "state": {},
    "version_major": 2,
    "version_minor": 0
   }
  }
 },
 "nbformat": 4,
 "nbformat_minor": 5
}
